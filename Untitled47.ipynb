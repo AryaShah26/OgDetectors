{
 "cells": [
  {
   "cell_type": "code",
   "execution_count": 1,
   "id": "ccec6919-59ce-4ad2-b37c-99c86b62820c",
   "metadata": {},
   "outputs": [],
   "source": [
    "from flask import Flask, request, jsonify\n",
    "import joblib"
   ]
  },
  {
   "cell_type": "code",
   "execution_count": 2,
   "id": "9d042bdb-0ef6-4922-9cc6-f0383e574aea",
   "metadata": {},
   "outputs": [],
   "source": [
    "app = Flask(__name__)"
   ]
  },
  {
   "cell_type": "code",
   "execution_count": 3,
   "id": "02c343c2-582f-4067-9029-68b7dbeaa599",
   "metadata": {},
   "outputs": [],
   "source": [
    "model = joblib.load('model.pkl')"
   ]
  },
  {
   "cell_type": "code",
   "execution_count": 4,
   "id": "402b9d42-be3d-4c6d-b001-7e27e3763aa1",
   "metadata": {},
   "outputs": [],
   "source": [
    "@app.route('/predict', methods=['POST'])\n",
    "def predict():\n",
    "    data = request.get_json()\n",
    "    time = data.get('time')\n",
    "    amount = data.get('amount')\n",
    "    prediction = model.predict([[time, amount]])\n",
    "    return jsonify({'fraud_prediction': int(prediction[0])})"
   ]
  },
  {
   "cell_type": "code",
   "execution_count": null,
   "id": "89554f60-f15d-4706-b5fc-a334312b3cf9",
   "metadata": {},
   "outputs": [],
   "source": [
    "if __name__ == '__main__':\n",
    "    app.run()"
   ]
  },
  {
   "cell_type": "code",
   "execution_count": null,
   "id": "1d93cc66-a8df-4149-8ec5-70458f858f18",
   "metadata": {},
   "outputs": [],
   "source": []
  }
 ],
 "metadata": {
  "kernelspec": {
   "display_name": "Python 3 (ipykernel)",
   "language": "python",
   "name": "python3"
  },
  "language_info": {
   "codemirror_mode": {
    "name": "ipython",
    "version": 3
   },
   "file_extension": ".py",
   "mimetype": "text/x-python",
   "name": "python",
   "nbconvert_exporter": "python",
   "pygments_lexer": "ipython3",
   "version": "3.11.7"
  }
 },
 "nbformat": 4,
 "nbformat_minor": 5
}
